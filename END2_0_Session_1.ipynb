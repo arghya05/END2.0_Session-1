{
  "nbformat": 4,
  "nbformat_minor": 0,
  "metadata": {
    "colab": {
      "name": "END2.0 Session 1.ipynb",
      "provenance": []
    },
    "kernelspec": {
      "name": "python3",
      "display_name": "Python 3"
    },
    "language_info": {
      "name": "python"
    }
  },
  "cells": [
    {
      "cell_type": "code",
      "metadata": {
        "colab": {
          "base_uri": "https://localhost:8080/"
        },
        "id": "GC_6PeobwwkH",
        "outputId": "be2cf86e-89f2-4eed-dd87-b2060dee6b2d"
      },
      "source": [
        "import torch\n",
        "from torch.autograd import Variable\n",
        "import torch.nn as nn\n",
        "import torch.nn.functional as F\n",
        "import torch.optim as optim\n",
        "import numpy as np\n",
        "import matplotlib.pyplot as plt\n",
        "%matplotlib inline\n",
        "torch.manual_seed(2)"
      ],
      "execution_count": 110,
      "outputs": [
        {
          "output_type": "execute_result",
          "data": {
            "text/plain": [
              "<torch._C.Generator at 0x7f3f1ef9a8d0>"
            ]
          },
          "metadata": {
            "tags": []
          },
          "execution_count": 110
        }
      ]
    },
    {
      "cell_type": "code",
      "metadata": {
        "id": "bL64bMTkw2GP"
      },
      "source": [
        "X = torch.Tensor([[0,0], [0,1], [1,0], [1,1]])\n",
        "Y = torch.Tensor([0, 1, 1, 0]).view(-1,1)"
      ],
      "execution_count": 174,
      "outputs": []
    },
    {
      "cell_type": "code",
      "metadata": {
        "id": "Q7kx9_kiy9_H"
      },
      "source": [
        "#X = torch.Tensor([0,1,1,0])\n",
        "#Y = torch.Tensor([0,1,0,1]).view(-1,1)"
      ],
      "execution_count": 173,
      "outputs": []
    },
    {
      "cell_type": "code",
      "metadata": {
        "id": "aC82kEAIw3Wf"
      },
      "source": [
        "class XOR(nn.Module):\n",
        "    def __init__(self, input_dim = 2, output_dim=1):\n",
        "        super(XOR, self).__init__()\n",
        "        self.lin1 = nn.Linear(input_dim, 10,bias =False)\n",
        "        self.lin2 = nn.Linear(10, 2,bias =False)\n",
        "        self.lin3 = nn.Linear(2, 1,bias =False)\n",
        "        self.lin4 = nn.Linear(1, 1,bias =False)\n",
        "        self.lin5 = nn.Linear(1,output_dim,bias =False)\n",
        "    \n",
        "    def forward(self, x):\n",
        "        x = self.lin1(x)\n",
        "        x = F.tanh(x)\n",
        "        x = self.lin2(x)\n",
        "        x = F.tanh(x)\n",
        "        x = self.lin3(x)\n",
        "        x = F.tanh(x)\n",
        "        x = self.lin4(x)\n",
        "        x = F.tanh(x)\n",
        "        x = self.lin5(x)\n",
        "        #x = F.tanh(x)\n",
        "        return x"
      ],
      "execution_count": 175,
      "outputs": []
    },
    {
      "cell_type": "code",
      "metadata": {
        "colab": {
          "base_uri": "https://localhost:8080/"
        },
        "id": "8gQIQExYw65K",
        "outputId": "d1432131-2510-4f6f-f3d1-20f35bc58cda"
      },
      "source": [
        "model = XOR()\n",
        "print(model)\n",
        "from torchsummary import summary\n",
        "summary(model, (2,2))"
      ],
      "execution_count": 177,
      "outputs": [
        {
          "output_type": "stream",
          "text": [
            "XOR(\n",
            "  (lin1): Linear(in_features=2, out_features=10, bias=False)\n",
            "  (lin2): Linear(in_features=10, out_features=2, bias=False)\n",
            "  (lin3): Linear(in_features=2, out_features=1, bias=False)\n",
            "  (lin4): Linear(in_features=1, out_features=1, bias=False)\n",
            "  (lin5): Linear(in_features=1, out_features=1, bias=False)\n",
            ")\n",
            "----------------------------------------------------------------\n",
            "        Layer (type)               Output Shape         Param #\n",
            "================================================================\n",
            "            Linear-1                [-1, 2, 10]              20\n",
            "            Linear-2                 [-1, 2, 2]              20\n",
            "            Linear-3                 [-1, 2, 1]               2\n",
            "            Linear-4                 [-1, 2, 1]               1\n",
            "            Linear-5                 [-1, 2, 1]               1\n",
            "================================================================\n",
            "Total params: 44\n",
            "Trainable params: 44\n",
            "Non-trainable params: 0\n",
            "----------------------------------------------------------------\n",
            "Input size (MB): 0.00\n",
            "Forward/backward pass size (MB): 0.00\n",
            "Params size (MB): 0.00\n",
            "Estimated Total Size (MB): 0.00\n",
            "----------------------------------------------------------------\n"
          ],
          "name": "stdout"
        },
        {
          "output_type": "stream",
          "text": [
            "/usr/local/lib/python3.7/dist-packages/torch/nn/functional.py:1698: UserWarning: nn.functional.tanh is deprecated. Use torch.tanh instead.\n",
            "  warnings.warn(\"nn.functional.tanh is deprecated. Use torch.tanh instead.\")\n"
          ],
          "name": "stderr"
        }
      ]
    },
    {
      "cell_type": "code",
      "metadata": {
        "id": "yeotEq19x6XF"
      },
      "source": [
        "def weights_init(model):\n",
        "    for m in model.modules():\n",
        "        if isinstance(m, nn.Linear):\n",
        "            # initialize the weight tensor, here we use a normal distribution\n",
        "            m.weight.data.normal_(0, 1)\n",
        "\n",
        "weights_init(model)"
      ],
      "execution_count": 178,
      "outputs": []
    },
    {
      "cell_type": "code",
      "metadata": {
        "id": "WrD_sNzLx78e"
      },
      "source": [
        "loss_func = nn.L1Loss()"
      ],
      "execution_count": 179,
      "outputs": []
    },
    {
      "cell_type": "code",
      "metadata": {
        "id": "-zvbrMd2x_lA"
      },
      "source": [
        "optimizer = optim.SGD(model.parameters(), lr=0.02, momentum=0.9)\n"
      ],
      "execution_count": 180,
      "outputs": []
    },
    {
      "cell_type": "code",
      "metadata": {
        "colab": {
          "base_uri": "https://localhost:8080/"
        },
        "id": "q7tWa3D7yA5X",
        "outputId": "4946dafb-a3c0-4c33-ac8f-023533e29cc9"
      },
      "source": [
        "epochs = 2001\n",
        "steps = X.size(0)\n",
        "for i in range(epochs):\n",
        "    for j in range(steps):\n",
        "        data_point = np.random.randint(X.size(0))\n",
        "        x_var = Variable(X[data_point], requires_grad=False)\n",
        "        y_var = Variable(Y[data_point], requires_grad=False)\n",
        "        optimizer.zero_grad()\n",
        "        y_hat = model(x_var)\n",
        "        loss = loss_func.forward(y_hat, y_var)\n",
        "        loss.backward()\n",
        "        optimizer.step()\n",
        "        \n",
        "    if i % 50 == 0:\n",
        "        print( \"Epoch: {0}, Loss: {1}, \".format(i, loss.data.numpy()))"
      ],
      "execution_count": 181,
      "outputs": [
        {
          "output_type": "stream",
          "text": [
            "/usr/local/lib/python3.7/dist-packages/torch/nn/functional.py:1698: UserWarning: nn.functional.tanh is deprecated. Use torch.tanh instead.\n",
            "  warnings.warn(\"nn.functional.tanh is deprecated. Use torch.tanh instead.\")\n"
          ],
          "name": "stderr"
        },
        {
          "output_type": "stream",
          "text": [
            "Epoch: 0, Loss: 0.3535385727882385, \n",
            "Epoch: 50, Loss: 0.13430559635162354, \n",
            "Epoch: 100, Loss: 1.0436477661132812, \n",
            "Epoch: 150, Loss: 0.20576578378677368, \n",
            "Epoch: 200, Loss: 0.0, \n",
            "Epoch: 250, Loss: 0.4425697326660156, \n",
            "Epoch: 300, Loss: 0.8049966096878052, \n",
            "Epoch: 350, Loss: 0.0, \n",
            "Epoch: 400, Loss: 0.0, \n",
            "Epoch: 450, Loss: 0.2963941693305969, \n",
            "Epoch: 500, Loss: 1.129766821861267, \n",
            "Epoch: 550, Loss: 0.05253875255584717, \n",
            "Epoch: 600, Loss: 0.0, \n",
            "Epoch: 650, Loss: 0.5522688031196594, \n",
            "Epoch: 700, Loss: 0.0, \n",
            "Epoch: 750, Loss: 0.994462788105011, \n",
            "Epoch: 800, Loss: 0.897614061832428, \n",
            "Epoch: 850, Loss: 0.0, \n",
            "Epoch: 900, Loss: 0.0, \n",
            "Epoch: 950, Loss: 1.046350359916687, \n",
            "Epoch: 1000, Loss: 0.587470531463623, \n",
            "Epoch: 1050, Loss: 0.10608804225921631, \n",
            "Epoch: 1100, Loss: 0.09503042697906494, \n",
            "Epoch: 1150, Loss: 0.33503955602645874, \n",
            "Epoch: 1200, Loss: 0.4007651209831238, \n",
            "Epoch: 1250, Loss: 0.1936197280883789, \n",
            "Epoch: 1300, Loss: 0.6899455785751343, \n",
            "Epoch: 1350, Loss: 0.8375504016876221, \n",
            "Epoch: 1400, Loss: 0.0, \n",
            "Epoch: 1450, Loss: 0.03135108947753906, \n",
            "Epoch: 1500, Loss: 0.06682419776916504, \n",
            "Epoch: 1550, Loss: 1.0635863542556763, \n",
            "Epoch: 1600, Loss: 1.0519551038742065, \n",
            "Epoch: 1650, Loss: 0.2395108938217163, \n",
            "Epoch: 1700, Loss: 0.9623882174491882, \n",
            "Epoch: 1750, Loss: 0.9297643303871155, \n",
            "Epoch: 1800, Loss: 0.07218378782272339, \n",
            "Epoch: 1850, Loss: 0.092010498046875, \n",
            "Epoch: 1900, Loss: 0.0, \n",
            "Epoch: 1950, Loss: 0.8185345530509949, \n",
            "Epoch: 2000, Loss: 0.007738888263702393, \n"
          ],
          "name": "stdout"
        }
      ]
    },
    {
      "cell_type": "code",
      "metadata": {
        "id": "QV0dIdveyCRi"
      },
      "source": [
        ""
      ],
      "execution_count": null,
      "outputs": []
    }
  ]
}